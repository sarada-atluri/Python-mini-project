{
  "nbformat": 4,
  "nbformat_minor": 0,
  "metadata": {
    "colab": {
      "provenance": [],
      "authorship_tag": "ABX9TyN1xChaKaRbrpFabc/BOVJU",
      "include_colab_link": true
    },
    "kernelspec": {
      "name": "python3",
      "display_name": "Python 3"
    },
    "language_info": {
      "name": "python"
    }
  },
  "cells": [
    {
      "cell_type": "markdown",
      "metadata": {
        "id": "view-in-github",
        "colab_type": "text"
      },
      "source": [
        "<a href=\"https://colab.research.google.com/github/sarada-atluri/Python-mini-project/blob/main/Untitled16.ipynb\" target=\"_parent\"><img src=\"https://colab.research.google.com/assets/colab-badge.svg\" alt=\"Open In Colab\"/></a>"
      ]
    },
    {
      "cell_type": "code",
      "execution_count": null,
      "metadata": {
        "colab": {
          "base_uri": "https://localhost:8080/"
        },
        "id": "FZXVSMKmGvJL",
        "outputId": "f372785a-0a88-4af8-88d1-428d827c1c95"
      },
      "outputs": [
        {
          "output_type": "stream",
          "name": "stdout",
          "text": [
            "[10, 8, 6, 5, 4, 3, 1]\n"
          ]
        }
      ],
      "source": [
        " numbers=[6,1,10,8,4,3,5]\n",
        " des_order=[]\n",
        "def minimum(num):\n",
        "    mini_value=num[0]\n",
        "    for x in num:\n",
        "       if x>=mini_value:\n",
        "         mini_value=x\n",
        "    num.remove(mini_value)\n",
        "    des_order.append(mini_value)\n",
        "for x in range(len(numbers)):\n",
        "    minimum(numbers)\n",
        "print(des_order)"
      ]
    }
  ]
}