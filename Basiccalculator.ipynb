{
 "cells": [
  {
   "cell_type": "code",
   "execution_count": null,
   "metadata": {},
   "outputs": [
    {
     "name": "stdout",
     "output_type": "stream",
     "text": [
      "Select operation.\n",
      "1.Add\n",
      "2.Subtract\n",
      "3.Multiply\n",
      "4.Divide\n",
      "5.Modulo\n",
      "3.0 + 5.0 = 8.0\n"
     ]
    }
   ],
   "source": [
    "def add(x,y):\n",
    "    return x + y\n",
    "\n",
    "# This function subtracts two numbers\n",
    "def subtract(x,y):\n",
    "    return x_y\n",
    "\n",
    "# This function multiplies two numbers\n",
    "def multiply(x,y):\n",
    "    return x * y\n",
    "\n",
    "# This function divides two numbers\n",
    "def divide(x,y):\n",
    "    return x / y\n",
    "\n",
    "# This function modulo two numbers\n",
    "def modulo(x,y):\n",
    "    return x % y\n",
    "\n",
    "print(\"Select operation.\")\n",
    "print(\"1.Add\")\n",
    "print(\"2.Subtract\")\n",
    "print(\"3.Multiply\")\n",
    "print(\"4.Divide\")\n",
    "print(\"5.Modulo\")\n",
    "\n",
    "while True:\n",
    "     # take input from the user\n",
    "     choice=input(\"Enter choice(1/2/3/4/5): \")\n",
    "\n",
    "     # check if choice is one of the five options\n",
    "     if choice in ('1','2','3','4','5'):\n",
    "       try:\n",
    "         num1=float(input(\"Enter first number: \"))\n",
    "         num2=float(input(\"Enter second number: \"))\n",
    "       except valueError:\n",
    "         print(\"Invalid input. Please enter a number. \")\n",
    "         continue\n",
    "\n",
    "     if choice=='1':\n",
    "         print(num1, \"+\", num2, \"=\", add(num1, num2))\n",
    "\n",
    "     elif choice=='2':\n",
    "         print(num1, \"_\", num2, \"=\", subtract(num1, num2))\n",
    "\n",
    "     elif choice=='3':\n",
    "         print(num1, \"*\", num2, \"=\", multiply(num1, num2))\n",
    "\n",
    "     elif choice=='4':\n",
    "         print(num1, \"/\", num2, \"=\", divide(num1, num2))\n",
    "\n",
    "     elif choice=='5':\n",
    "         print(num1, \"%\", num2, \"=\", modulo(num1, num2))\n",
    "\n",
    "      # check if user wants another calculation\n",
    "      # break the while loop if answer is no\n",
    "     next_calculation=input(\"Let's do next calculation.\")\n",
    "     if next_calculation ==\"no\":\n",
    "         break\n",
    "else:\n",
    "      print(\"Invalid Input\")"
   ]
  }
 ],
 "metadata": {
  "kernelspec": {
   "display_name": "Python 3",
   "language": "python",
   "name": "python3"
  },
  "language_info": {
   "codemirror_mode": {
    "name": "ipython",
    "version": 3
   },
   "file_extension": ".py",
   "mimetype": "text/x-python",
   "name": "python",
   "nbconvert_exporter": "python",
   "pygments_lexer": "ipython3",
   "version": "3.9.13"
  }
 },
 "nbformat": 4,
 "nbformat_minor": 2
}
